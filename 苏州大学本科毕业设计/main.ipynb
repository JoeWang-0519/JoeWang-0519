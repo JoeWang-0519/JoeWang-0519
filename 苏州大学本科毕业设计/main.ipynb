{
 "cells": [
  {
   "cell_type": "code",
   "execution_count": 1,
   "id": "a35b2023",
   "metadata": {},
   "outputs": [],
   "source": [
    "import numpy as np\n",
    "import matplotlib.pyplot as plt\n",
    "import intelligent_warehouse as iw\n",
    "import random\n",
    "import copy\n",
    "%load_ext autoreload\n",
    "%autoreload 2"
   ]
  },
  {
   "cell_type": "code",
   "execution_count": 2,
   "id": "7198e9bd",
   "metadata": {},
   "outputs": [],
   "source": [
    "xm = 25\n",
    "ym = 20\n",
    "m = np.zeros((ym, xm), int)\n",
    "\n",
    "#note shelf as 1 \n",
    "for i in [3, 7, 11, 15]:\n",
    "    for j in [4, 11, 18]:\n",
    "        m[i:i + 2, j:j + 5] = 1\n",
    "        \n",
    "#note cargoin as 2, cargoout as 3\n",
    "for i in [7, 14, 21]:\n",
    "    m[0, i] = 2\n",
    "    m[19, i] = 3\n",
    "\n",
    "#note charging area as 4\n",
    "m[3:18, 0:1] = 4\n",
    "\n",
    "#note inshelf as 5\n",
    "for i in [3, 7, 11, 15]:\n",
    "    for j in [9, 16, 23]:\n",
    "        m[i, j] = 5"
   ]
  },
  {
   "cell_type": "code",
   "execution_count": 3,
   "id": "76ba32ae",
   "metadata": {},
   "outputs": [],
   "source": [
    "#car=[(0,1)current loc, 2 battery, 3 whether free, (4,5)mission start loc, \n",
    "#(6,7)mission end loc, 8 whether carry cargo, 9whether have path, 10：0 not charge, 1 on the way, 2 on charging, 11 car_id]\n",
    "car1 = [0, 3, 100, 0, 0, 0, 0, 0, 0, 0, 0, 0]\n",
    "car2 = [0, 5, 100, 0, 0, 0, 0, 0, 0, 0, 0, 1]\n",
    "car3 = [0, 7, 100, 0, 0, 0, 0, 0, 0, 0, 0, 2]\n",
    "car4 = [0, 9, 100, 0, 0, 0, 0, 0, 0, 0, 0, 3]\n",
    "car5 = [0, 11, 100, 0, 0, 0, 0, 0, 0, 0, 0, 4]\n",
    "car6 = [0, 13, 100, 0, 0, 0, 0, 0, 0, 0, 0, 5]\n",
    "car7 = [0, 15, 100, 0, 0, 0, 0, 0, 0, 0, 0, 6]\n",
    "car8 = [0, 17, 100, 0, 0, 0, 0, 0, 0, 0, 0, 7]\n",
    "\n",
    "carall = [car1, car2, car3, car4, car5, car6, car7, car8]"
   ]
  },
  {
   "cell_type": "code",
   "execution_count": 4,
   "id": "950e4fe6",
   "metadata": {},
   "outputs": [
    {
     "data": {
      "image/png": "[encoded data removed]",
      "text/plain": [
       "<Figure size 900x720 with 1 Axes>"
      ]
     },
     "metadata": {
      "needs_background": "light"
     },
     "output_type": "display_data"
    }
   ],
   "source": [
    "iw.drawmap(m, carall)"
   ]
  },
  {
   "cell_type": "code",
   "execution_count": 17,
   "id": "3d7d347f",
   "metadata": {},
   "outputs": [],
   "source": [
    "def createmission(n_mission = 10, file = \"mission.txt\"):\n",
    "    f = open(file,\"w\")\n",
    "    mission = []\n",
    "    for i in range(n_mission):\n",
    "        loc = str(random.randint(1, 6))\n",
    "        cargo = str(random.randint(1, 12))\n",
    "        mission.append([loc, cargo])\n",
    "    for i in mission:\n",
    "        i = str(i).strip('[').strip(']').replace(',','').replace('\\'','')+'\\n'\n",
    "        f.write(i)\n",
    "    "
   ]
  },
  {
   "cell_type": "code",
   "execution_count": 20,
   "id": "5d03affa",
   "metadata": {},
   "outputs": [],
   "source": [
    "createmission(10)"
   ]
  },
  {
   "cell_type": "code",
   "execution_count": 21,
   "id": "2e6c4aa8",
   "metadata": {},
   "outputs": [
    {
     "data": {
      "text/plain": [
       "[[1, 9],\n",
       " [4, 10],\n",
       " [6, 8],\n",
       " [4, 1],\n",
       " [3, 4],\n",
       " [2, 4],\n",
       " [4, 6],\n",
       " [1, 5],\n",
       " [4, 2],\n",
       " [2, 3]]"
      ]
     },
     "execution_count": 21,
     "metadata": {},
     "output_type": "execute_result"
    }
   ],
   "source": [
    "mission = iw.getmission(\"mission.txt\")\n",
    "mission"
   ]
  },
  {
   "cell_type": "code",
   "execution_count": 22,
   "id": "6a336813",
   "metadata": {},
   "outputs": [],
   "source": [
    "shelf = np.random.randint(5,size = 12)"
   ]
  },
  {
   "cell_type": "code",
   "execution_count": 23,
   "id": "14357a72",
   "metadata": {},
   "outputs": [
    {
     "data": {
      "text/plain": [
       "array([0, 1, 2, 0, 4, 1, 2, 1, 2, 2, 1, 2])"
      ]
     },
     "execution_count": 23,
     "metadata": {},
     "output_type": "execute_result"
    }
   ],
   "source": [
    "shelf"
   ]
  },
  {
   "cell_type": "code",
   "execution_count": 24,
   "id": "10ca7c42",
   "metadata": {},
   "outputs": [
    {
     "name": "stdout",
     "output_type": "stream",
     "text": [
      "任务1可完成\n",
      "任务2可完成\n",
      "任务3可完成\n",
      "货架1无货,任务4无法完成\n",
      "请输入进货拣货台编号（1-3）：3\n",
      "任务5可完成\n",
      "任务6可完成\n",
      "任务7可完成\n",
      "任务8可完成\n",
      "任务9可完成\n",
      "任务10可完成\n"
     ]
    }
   ],
   "source": [
    "#检测任务能否完成，若无法完成，安排进货\n",
    "new_mission = []\n",
    "for i in range(len(mission)):\n",
    "    if mission[i][0] > 3 and shelf[mission[i][1]-1] == 0:\n",
    "        print('货架'+str(mission[i][1])+'无货,任务'+str(i+1)+'无法完成')\n",
    "        new_mission.append(mission[i])\n",
    "        iw.purchase(mission[i][1], new_mission)\n",
    "    else:\n",
    "        new_mission.append(mission[i])\n",
    "        if mission[i][0] <= 3:\n",
    "            shelf[mission[i][1]-1] += 1\n",
    "        else:\n",
    "            shelf[mission[i][1]-1] -= 1\n",
    "        print('任务'+str(i+1)+'可完成')\n",
    "mission = new_mission"
   ]
  },
  {
   "cell_type": "code",
   "execution_count": 25,
   "id": "d6a688ba",
   "metadata": {},
   "outputs": [
    {
     "data": {
      "text/plain": [
       "array([0, 0, 3, 2, 5, 0, 2, 0, 3, 1, 1, 2])"
      ]
     },
     "execution_count": 25,
     "metadata": {},
     "output_type": "execute_result"
    }
   ],
   "source": [
    "shelf"
   ]
  },
  {
   "cell_type": "code",
   "execution_count": 26,
   "id": "4c0f324d",
   "metadata": {},
   "outputs": [
    {
     "data": {
      "text/plain": [
       "[[3, 1],\n",
       " [1, 9],\n",
       " [4, 10],\n",
       " [6, 8],\n",
       " [4, 1],\n",
       " [3, 4],\n",
       " [2, 4],\n",
       " [4, 6],\n",
       " [1, 5],\n",
       " [4, 2],\n",
       " [2, 3]]"
      ]
     },
     "execution_count": 26,
     "metadata": {},
     "output_type": "execute_result"
    }
   ],
   "source": [
    "mission"
   ]
  },
  {
   "cell_type": "code",
   "execution_count": 27,
   "id": "a728c1bc",
   "metadata": {},
   "outputs": [
    {
     "name": "stdout",
     "output_type": "stream",
     "text": [
      "请输入添加的任务类型（0：入库，1：出库）0\n",
      "请输入拣货台编号（1-3）：2\n",
      "请输入货架编号（1-12）：8\n",
      "添加完成\n"
     ]
    }
   ],
   "source": [
    "iw.add_mission(shelf, mission)"
   ]
  },
  {
   "cell_type": "code",
   "execution_count": 28,
   "id": "63d6465d",
   "metadata": {},
   "outputs": [
    {
     "name": "stdout",
     "output_type": "stream",
     "text": [
      "请输入添加的任务类型（0：入库，1：出库）1\n",
      "请输入拣货台编号（4-6）：5\n",
      "请输入货架编号（1-12）：2\n",
      "库存不足\n",
      "是否需要进货（不需要：0，需要：1）：1\n",
      "请输入进货拣货台编号（1-3）：3\n",
      "添加完成\n"
     ]
    }
   ],
   "source": [
    "iw.add_mission(shelf, mission)"
   ]
  },
  {
   "cell_type": "code",
   "execution_count": 29,
   "id": "81565c66",
   "metadata": {},
   "outputs": [
    {
     "data": {
      "text/plain": [
       "[[3, 2],\n",
       " [3, 1],\n",
       " [1, 9],\n",
       " [4, 10],\n",
       " [6, 8],\n",
       " [4, 1],\n",
       " [3, 4],\n",
       " [2, 4],\n",
       " [4, 6],\n",
       " [1, 5],\n",
       " [4, 2],\n",
       " [2, 3],\n",
       " [2, 8],\n",
       " [5, 2]]"
      ]
     },
     "execution_count": 29,
     "metadata": {},
     "output_type": "execute_result"
    }
   ],
   "source": [
    "mission"
   ]
  },
  {
   "cell_type": "code",
   "execution_count": 30,
   "id": "61fcc708",
   "metadata": {},
   "outputs": [
    {
     "name": "stdout",
     "output_type": "stream",
     "text": [
      "请输入要删除任务的拣货台编号：4\n",
      "请输入要删除任务的货架编号：2\n",
      "删除成功\n"
     ]
    }
   ],
   "source": [
    "iw.del_mission(mission)"
   ]
  },
  {
   "cell_type": "code",
   "execution_count": 31,
   "id": "43fbb8cd",
   "metadata": {},
   "outputs": [
    {
     "data": {
      "text/plain": [
       "[[3, 2],\n",
       " [3, 1],\n",
       " [1, 9],\n",
       " [4, 10],\n",
       " [6, 8],\n",
       " [4, 1],\n",
       " [3, 4],\n",
       " [2, 4],\n",
       " [4, 6],\n",
       " [1, 5],\n",
       " [2, 3],\n",
       " [2, 8],\n",
       " [5, 2]]"
      ]
     },
     "execution_count": 31,
     "metadata": {},
     "output_type": "execute_result"
    }
   ],
   "source": [
    "mission"
   ]
  },
  {
   "cell_type": "code",
   "execution_count": 34,
   "id": "96feb81d",
   "metadata": {
    "scrolled": true
   },
   "outputs": [
    {
     "name": "stdout",
     "output_type": "stream",
     "text": [
      "Other cars are all idle\n"
     ]
    },
    {
     "name": "stderr",
     "output_type": "stream",
     "text": [
      "E:\\anaconda\\lib\\site-packages\\numpy\\core\\fromnumeric.py:3419: RuntimeWarning: Mean of empty slice.\n",
      "  return _methods._mean(a, axis=axis, dtype=dtype,\n",
      "E:\\anaconda\\lib\\site-packages\\numpy\\core\\_methods.py:188: RuntimeWarning: invalid value encountered in double_scalars\n",
      "  ret = ret.dtype.type(ret / rcount)\n"
     ]
    },
    {
     "name": "stdout",
     "output_type": "stream",
     "text": [
      "Try 1\n",
      "The end node is blocked!! Wait!!\n",
      "[(3.0, 3.0), (4.0, 2.0), (5.0, 2.0), (6.0, 2.0), (7.0, 2.0), (8.0, 2.0), (9.0, 2.0), (10.0, 2.0), (11.0, 2.0), (12.0, 2.0), (13.0, 2.0), (14.0, 2.0), (15.0, 2.0), (16.0, 2.0), (17.0, 2.0), (18.0, 2.0)]\n",
      "[0, 5, 100, 1, 21, 0, 9, 3, 0, 0, 0, 1]\n",
      "[(3.0, 3.0), (4.0, 2.0), (5.0, 2.0), (6.0, 2.0), (7.0, 2.0), (8.0, 2.0), (9.0, 2.0), (10.0, 2.0), (11.0, 2.0), (12.0, 2.0), (13.0, 2.0), (14.0, 2.0), (15.0, 2.0), (16.0, 2.0), (17.0, 2.0), (18.0, 2.0), (21.0, 0.0)]\n",
      "Try 2\n",
      "The end node is blocked!! Wait!!\n",
      "[(3.0, 3.0), (4.0, 2.0), (5.0, 2.0), (6.0, 2.0), (7.0, 2.0), (8.0, 2.0), (9.0, 2.0), (10.0, 2.0), (11.0, 2.0), (12.0, 2.0), (13.0, 2.0), (14.0, 2.0), (15.0, 2.0), (16.0, 2.0), (17.0, 2.0), (18.0, 2.0), (19.0, 0.0), (20.0, 0.0), (21.0, 1.0), (20.0, 1.0), (19.0, 1.0), (18.0, 1.0), (17.0, 1.0), (16.0, 1.0), (16.0, 2.0), (16.0, 3.0)]\n",
      "[0, 5, 100, 1, 21, 0, 9, 3, 0, 0, 0, 1]\n",
      "[(19.0, 0.0), (20.0, 0.0), (21.0, 0.0), (21.0, 0.0), (21.0, 1.0), (20.0, 1.0), (19.0, 1.0), (18.0, 1.0), (17.0, 1.0), (16.0, 1.0), (16.0, 2.0), (16.0, 3.0)]\n",
      "Try 3\n",
      "The end node is blocked!! Wait!!\n",
      "[(3.0, 3.0), (4.0, 2.0), (5.0, 2.0), (6.0, 2.0), (7.0, 2.0), (8.0, 2.0), (9.0, 2.0), (10.0, 2.0), (11.0, 2.0), (12.0, 2.0), (13.0, 2.0), (14.0, 2.0), (15.0, 2.0), (16.0, 2.0), (17.0, 2.0), (18.0, 2.0), (19.0, 0.0), (20.0, 0.0), (21.0, 1.0), (20.0, 1.0), (19.0, 1.0), (18.0, 1.0), (17.0, 1.0), (16.0, 1.0), (16.0, 2.0), (16.0, 3.0), (16.0, 3.0)]\n",
      "[0, 5, 100, 1, 21, 0, 9, 3, 0, 0, 0, 1]\n",
      "[(21.0, 0.0), (16.0, 3.0)]\n",
      "Try 4\n",
      "The intermdeidate node is blocked!! Try another one!!\n",
      "[(3.0, 3.0), (4.0, 2.0), (5.0, 2.0), (6.0, 2.0), (7.0, 2.0), (8.0, 2.0), (9.0, 2.0), (10.0, 2.0), (11.0, 2.0), (12.0, 2.0), (13.0, 2.0), (14.0, 2.0), (15.0, 2.0), (16.0, 2.0), (17.0, 2.0), (18.0, 2.0), (19.0, 0.0), (20.0, 0.0), (21.0, 1.0), (20.0, 1.0), (19.0, 1.0), (18.0, 1.0), (17.0, 1.0), (16.0, 1.0), (16.0, 2.0), (16.0, 3.0), (16.0, 3.0), (16.0, 3.0)]\n",
      "[0, 5, 100, 1, 21, 0, 9, 3, 0, 0, 0, 1]\n",
      "[(16.0, 3.0)]\n",
      "Try 5\n",
      "No crash!\n",
      "Try 1\n",
      "No crash!\n",
      "Try 1\n",
      "The end node is blocked!! Wait!!\n",
      "[(3.0, 4.0), (9.0, 4.0), (9.0, 5.0), (9.0, 6.0)]\n",
      "[0, 9, 100, 1, 9, 3, 7, 19, 0, 0, 0, 3]\n",
      "[(3.0, 4.0), (9.0, 3.0), (9.0, 4.0), (9.0, 5.0), (9.0, 6.0)]\n",
      "Try 2\n",
      "The end node is blocked!! Wait!!\n",
      "[(3.0, 4.0), (9.0, 4.0), (9.0, 5.0), (9.0, 6.0), (8.0, 2.0)]\n",
      "[0, 9, 100, 1, 9, 3, 7, 19, 0, 0, 0, 3]\n",
      "[(8.0, 2.0), (9.0, 3.0)]\n",
      "Try 3\n",
      "No crash!\n",
      "Try 1\n",
      "No crash!\n",
      "Try 1\n",
      "The intermdeidate node is blocked!! Try another one!!\n",
      "[(2.0, 11.0), (3.0, 11.0)]\n",
      "[0, 13, 100, 1, 21, 0, 9, 7, 0, 0, 0, 5]\n",
      "[(2.0, 11.0), (3.0, 11.0)]\n",
      "Try 2\n",
      "No crash!\n",
      "Try 1\n",
      "No crash!\n",
      "Try 1\n",
      "The intermdeidate node is blocked!! Try another one!!\n",
      "[(4.0, 14.0), (5.0, 14.0), (6.0, 14.0), (7.0, 14.0), (8.0, 14.0), (10.0, 6.0)]\n",
      "[0, 17, 100, 1, 14, 0, 9, 7, 0, 0, 0, 7]\n",
      "[(4.0, 14.0), (5.0, 14.0), (6.0, 14.0), (7.0, 14.0), (8.0, 14.0), (10.0, 6.0)]\n",
      "Try 2\n",
      "No crash!\n",
      "misssion complete\n",
      "6\n",
      "Try 1\n",
      "The intermdeidate node is blocked!! Try another one!!\n",
      "[(17.0, 9.0)]\n",
      "[7, 19, 89.5, 1, 23, 7, 7, 19, 0, 0, 0, 6]\n",
      "[(17.0, 9.0)]\n",
      "Try 2\n",
      "No crash!\n",
      "misssion complete\n",
      "4\n",
      "Try 1\n",
      "No crash!\n",
      "misssion complete\n",
      "0\n",
      "misssion complete\n",
      "3\n",
      "Try 1\n",
      "No crash!\n",
      "Try 1\n",
      "No crash!\n",
      "misssion complete\n",
      "2\n",
      "Try 1\n",
      "No crash!\n",
      "misssion complete\n",
      "7\n",
      "Try 1\n",
      "No crash!\n",
      "misssion complete\n",
      "5\n",
      "Try 1\n",
      "No crash!\n",
      "misssion complete\n",
      "0\n",
      "Try 1\n",
      "No crash!\n",
      "misssion complete\n",
      "2\n",
      "Try 1\n",
      "No crash!\n",
      "misssion complete\n",
      "6\n",
      "Try 1\n",
      "No crash!\n",
      "misssion complete\n",
      "3\n",
      "Try 1\n",
      "No crash!\n",
      "misssion complete\n",
      "4\n",
      "Try 1\n",
      "No crash!\n",
      "misssion complete\n",
      "1\n",
      "Try 1\n",
      "No crash!\n"
     ]
    }
   ],
   "source": [
    "#car=[(0,1)current loc, 2 battery, 3 whether free, (4,5)mission start loc, \n",
    "#(6,7)mission end loc, 8 whether carry cargo, 9whether have path, 10：0 not charge, 1 on the way, 2 on charging, 11 car_id]\n",
    "car1 = [0, 3, 100, 0, 0, 0, 0, 0, 0, 0, 0, 0]\n",
    "car2 = [0, 5, 100, 0, 0, 0, 0, 0, 0, 0, 0, 1]\n",
    "car3 = [0, 7, 100, 0, 0, 0, 0, 0, 0, 0, 0, 2]\n",
    "car4 = [0, 9, 100, 0, 0, 0, 0, 0, 0, 0, 0, 3]\n",
    "car5 = [0, 11, 100, 0, 0, 0, 0, 0, 0, 0, 0, 4]\n",
    "car6 = [0, 13, 100, 0, 0, 0, 0, 0, 0, 0, 0, 5]\n",
    "car7 = [0, 15, 100, 0, 0, 0, 0, 0, 0, 0, 0, 6]\n",
    "car8 = [0, 17, 100, 0, 0, 0, 0, 0, 0, 0, 0, 7]\n",
    "\n",
    "carall = [car1, car2, car3, car4, car5, car6, car7, car8]\n",
    "\n",
    "t = 0\n",
    "n_mission = len(mission)\n",
    "m_appoint = 0\n",
    "m_complete = 0\n",
    "s = [0 for i in range(len(carall))]\n",
    "path = [[] for i in range(len(carall))]\n",
    "busy = []\n",
    "record = [[] for i in range(len(carall))]#car record\n",
    "ar = [0]#appointment record\n",
    "cr = [0]#complete record\n",
    "\n",
    "\n",
    "for i in range(len(carall)):\n",
    "    record[i].append([carall[i][0], carall[i][1], carall[i][2], carall[i][8], carall[i][10]])\n",
    "    \n",
    "while m_complete < n_mission or path != [[] for i in range(len(carall))]:\n",
    "    #print(t)\n",
    "    \n",
    "    # appoint missions\n",
    "    while m_appoint < n_mission:\n",
    "        car_id = iw.appoint(mission[m_appoint], carall)\n",
    "        \n",
    "        if car_id != -1:\n",
    "            carall[car_id][3] = 1\n",
    "            m_appoint += 1\n",
    "        else:\n",
    "            break\n",
    "        \n",
    "    \n",
    "    for i in range(len(carall)):\n",
    "        \n",
    "        #find path for cars which just get appointment\n",
    "        if carall[i][3] == 1 and carall[i][9] == 0:\n",
    "            # Consider More Subtle Cases which related to pushing\n",
    "            iw.findpath_ultimate(carall, i, path)\n",
    "            \n",
    "            carall[i][9] = 1\n",
    "            \n",
    "        #if car reaches the start point, change car[8]\n",
    "        if carall[i][0] == carall[i][4] and carall[i][1] == carall[i][5]:\n",
    "            if carall[i][10] == 0:\n",
    "                carall[i][8] = 1\n",
    "                s[i] = 1\n",
    "            \n",
    "        #if car reaches the end point\n",
    "        if carall[i][0] == carall[i][6] and carall[i][1] == carall[i][7]:\n",
    "            if carall[i][10] == 0 and s[i] == 1:\n",
    "                s[i] = 0\n",
    "                carall[i][3] = 0\n",
    "                carall[i][8] = 0\n",
    "                carall[i][9] = 0\n",
    "                m_complete += 1\n",
    "                print('misssion complete')\n",
    "                print(i)\n",
    "                #all the missions have been appointed or low battery, go back to the closest charging area\n",
    "                if m_appoint == n_mission or carall[i][2] < 30:\n",
    "                    iw.charge(carall[i], path, busy, carall)\n",
    "            elif carall[i][10]== 1:\n",
    "                carall[i][10] = 2\n",
    "                carall[i][4] = 0\n",
    "                carall[i][5] = 0\n",
    "                carall[i][6] = 0\n",
    "                carall[i][7] = 0\n",
    "        if m_appoint == n_mission and carall[i][3] == 0 and carall[i][10] == 0:\n",
    "            iw.charge(carall[i], path, busy, carall)\n",
    "        \n",
    "        \n",
    "        #move cars\n",
    "        if path[i] != []:\n",
    "            carall[i][0], carall[i][1] = int(path[i][0][0]), int(path[i][0][1])\n",
    "            del(path[i][0])\n",
    "        \n",
    "        record[i].append([carall[i][0], carall[i][1], carall[i][2], carall[i][8], carall[i][10]])    \n",
    "        \n",
    "        #battery\n",
    "        if carall[i][8] == 0:\n",
    "            carall[i][2] -= 0.5\n",
    "        elif carall[i][8] == 1:\n",
    "            carall[i][2] -= 1\n",
    "        if carall[i][10] == 2:\n",
    "            carall[i][2] += 5\n",
    "            if carall[i][2] >= 100:\n",
    "                carall[i][2] = 100\n",
    "                if m_appoint < n_mission:\n",
    "                    busy.remove(carall[i][1])\n",
    "                    carall[i][10] = 0\n",
    "                \n",
    "    t += 1\n",
    "    ar.append(m_appoint)\n",
    "    cr.append(m_complete)"
   ]
  },
  {
   "cell_type": "code",
   "execution_count": 57,
   "id": "748365f6",
   "metadata": {
    "scrolled": false
   },
   "outputs": [
    {
     "data": {
      "image/png": "[encoded data removed]",
      "text/plain": [
       "<Figure size 900x720 with 1 Axes>"
      ]
     },
     "metadata": {
      "needs_background": "light"
     },
     "output_type": "display_data"
    }
   ],
   "source": [
    "#模拟动画\n",
    "for time in range(t + 1):\n",
    "    fig = plt.figure(figsize=(12.5, 10))\n",
    "    plt.clf()\n",
    "    iw.animation(m, record, ar, cr, time)\n",
    "\n",
    "plt.show()"
   ]
  },
  {
   "cell_type": "code",
   "execution_count": 49,
   "id": "f718e5ef",
   "metadata": {},
   "outputs": [
    {
     "data": {
      "text/plain": [
       "[[0, 7, 100, 0, 0],\n",
       " [0, 7, 100, 0, 0],\n",
       " [1, 6, 99.5, 0, 0],\n",
       " [1, 5, 99.0, 0, 0],\n",
       " [2, 4, 98.5, 0, 0],\n",
       " [3, 4, 98.0, 0, 0],\n",
       " [3, 3, 97.5, 0, 0],\n",
       " [4, 2, 97.0, 0, 0],\n",
       " [5, 1, 96.5, 0, 0],\n",
       " [5, 0, 96.0, 0, 0],\n",
       " [6, 0, 95.5, 0, 0],\n",
       " [7, 0, 95.0, 0, 0],\n",
       " [7, 0, 94.5, 1, 0],\n",
       " [8, 1, 93.5, 1, 0],\n",
       " [8, 2, 92.5, 1, 0],\n",
       " [9, 3, 91.5, 1, 0],\n",
       " [9, 4, 90.5, 1, 0],\n",
       " [9, 5, 89.5, 1, 0],\n",
       " [9, 6, 88.5, 1, 0],\n",
       " [10, 6, 87.5, 1, 0],\n",
       " [11, 6, 86.5, 1, 0],\n",
       " [12, 6, 85.5, 1, 0],\n",
       " [13, 6, 84.5, 1, 0],\n",
       " [14, 6, 83.5, 1, 0],\n",
       " [15, 6, 82.5, 1, 0],\n",
       " [16, 6, 81.5, 1, 0],\n",
       " [17, 6, 80.5, 1, 0],\n",
       " [18, 6, 79.5, 1, 0],\n",
       " [19, 6, 78.5, 1, 0],\n",
       " [20, 6, 77.5, 1, 0],\n",
       " [21, 6, 76.5, 1, 0],\n",
       " [22, 6, 75.5, 1, 0],\n",
       " [23, 7, 74.5, 1, 0],\n",
       " [23, 8, 73.5, 1, 0],\n",
       " [23, 9, 72.5, 1, 0],\n",
       " [23, 10, 71.5, 1, 0],\n",
       " [23, 11, 70.5, 1, 0],\n",
       " [23, 11, 69.5, 0, 0],\n",
       " [23, 11, 69.0, 0, 0],\n",
       " [24, 11, 68.5, 0, 0],\n",
       " [24, 10, 68.0, 0, 0],\n",
       " [23, 9, 67.5, 0, 0],\n",
       " [22, 9, 67.0, 0, 0],\n",
       " [21, 9, 66.5, 0, 0],\n",
       " [20, 9, 66.0, 0, 0],\n",
       " [19, 9, 65.5, 0, 0],\n",
       " [18, 9, 65.0, 0, 0],\n",
       " [17, 8, 64.5, 0, 0],\n",
       " [17, 7, 64.0, 0, 0],\n",
       " [17, 6, 63.5, 0, 0],\n",
       " [17, 5, 63.0, 0, 0],\n",
       " [17, 4, 62.5, 0, 0],\n",
       " [16, 3, 62.0, 0, 0],\n",
       " [16, 3, 61.5, 1, 0],\n",
       " [16, 4, 60.5, 1, 0],\n",
       " [15, 5, 59.5, 1, 0],\n",
       " [15, 6, 58.5, 1, 0],\n",
       " [16, 7, 57.5, 1, 0],\n",
       " [16, 8, 56.5, 1, 0],\n",
       " [16, 9, 55.5, 1, 0],\n",
       " [16, 10, 54.5, 1, 0],\n",
       " [16, 11, 53.5, 1, 0],\n",
       " [16, 12, 52.5, 1, 0],\n",
       " [16, 13, 51.5, 1, 0],\n",
       " [16, 14, 50.5, 1, 0],\n",
       " [16, 15, 49.5, 1, 0],\n",
       " [16, 16, 48.5, 1, 0],\n",
       " [15, 17, 47.5, 1, 0],\n",
       " [14, 18, 46.5, 1, 0],\n",
       " [14, 19, 45.5, 1, 0],\n",
       " [14, 19, 44.5, 0, 1],\n",
       " [13, 18, 44.0, 0, 1],\n",
       " [13, 17, 43.5, 0, 1],\n",
       " [12, 17, 43.0, 0, 1],\n",
       " [11, 17, 42.5, 0, 1],\n",
       " [10, 17, 42.0, 0, 1],\n",
       " [9, 17, 41.5, 0, 1],\n",
       " [8, 17, 41.0, 0, 1],\n",
       " [7, 17, 40.5, 0, 1],\n",
       " [6, 17, 40.0, 0, 1],\n",
       " [5, 17, 39.5, 0, 1],\n",
       " [4, 17, 39.0, 0, 1],\n",
       " [3, 17, 38.5, 0, 1],\n",
       " [2, 17, 38.0, 0, 1],\n",
       " [1, 17, 37.5, 0, 1],\n",
       " [0, 17, 37.0, 0, 1],\n",
       " [0, 17, 36.5, 0, 2],\n",
       " [0, 17, 41.0, 0, 2],\n",
       " [0, 17, 45.5, 0, 2],\n",
       " [0, 17, 50.0, 0, 2],\n",
       " [0, 17, 54.5, 0, 2],\n",
       " [0, 17, 59.0, 0, 2],\n",
       " [0, 17, 63.5, 0, 2],\n",
       " [0, 17, 68.0, 0, 2],\n",
       " [0, 17, 72.5, 0, 2],\n",
       " [0, 17, 77.0, 0, 2],\n",
       " [0, 17, 81.5, 0, 2],\n",
       " [0, 17, 86.0, 0, 2],\n",
       " [0, 17, 90.5, 0, 2],\n",
       " [0, 17, 95.0, 0, 2],\n",
       " [0, 17, 99.5, 0, 2],\n",
       " [0, 17, 100, 0, 2]]"
      ]
     },
     "execution_count": 49,
     "metadata": {},
     "output_type": "execute_result"
    }
   ],
   "source": [
    "record[2]"
   ]
  },
  {
   "cell_type": "code",
   "execution_count": 81,
   "id": "55b0aa78",
   "metadata": {},
   "outputs": [
    {
     "data": {
      "text/plain": [
       "76"
      ]
     },
     "execution_count": 81,
     "metadata": {},
     "output_type": "execute_result"
    }
   ],
   "source": [
    "t"
   ]
  },
  {
   "cell_type": "code",
   "execution_count": 30,
   "id": "9ab1a497",
   "metadata": {},
   "outputs": [],
   "source": [
    "iw.writerecord(record, 'record_one_way.txt')"
   ]
  },
  {
   "cell_type": "code",
   "execution_count": 29,
   "id": "21981cb8",
   "metadata": {},
   "outputs": [],
   "source": [
    "iw.writear_cr(ar, 'ar_one_way.txt')\n",
    "iw.writear_cr(cr, 'cr_one_way.txt')"
   ]
  },
  {
   "cell_type": "code",
   "execution_count": 16,
   "id": "e37104d1",
   "metadata": {},
   "outputs": [],
   "source": [
    "def getrecord(file = \"record.txt\"):\n",
    "    f = open(file)\n",
    "    record = [float(i) for i in f.read().split()]\n",
    "    record = [[record[i], record[i+1], record[i+2], record[i+3], record[i+4]] for i in range(0,len(record) - 4,5)]\n",
    "    t = int(len(record)/8)\n",
    "    ans = [[],[],[],[],[],[],[],[]]\n",
    "    for i in range(8):\n",
    "        ans[i] = [record[j] for j in range(i*t,(i+1)*t)]\n",
    "    return ans\n",
    "\n",
    "\n",
    "def getr(file):\n",
    "    f = open(file)\n",
    "    record = [int(i) for i in f.read().split()]\n",
    "    return record"
   ]
  },
  {
   "cell_type": "code",
   "execution_count": 17,
   "id": "1cf3e031",
   "metadata": {},
   "outputs": [
    {
     "data": {
      "text/plain": [
       "171"
      ]
     },
     "execution_count": 17,
     "metadata": {},
     "output_type": "execute_result"
    }
   ],
   "source": [
    "ar = getr('ar.txt')\n",
    "len(ar)"
   ]
  },
  {
   "cell_type": "code",
   "execution_count": 28,
   "id": "23a3840d",
   "metadata": {},
   "outputs": [
    {
     "data": {
      "text/plain": [
       "[[15, 6, 46.0, 1, 7, 0, 16, 11, 1, 1, 0, 0],\n",
       " [0, 7, 97.5, 0, 0, 0, 0, 0, 0, 0, 2, 1],\n",
       " [18, 18, 50.5, 0, 0, 16, 0, 16, 0, 0, 1, 2],\n",
       " [0, 3, 70.0, 0, 0, 0, 0, 0, 0, 0, 2, 3],\n",
       " [7, 19, 48.0, 0, 0, 15, 0, 15, 0, 0, 1, 4],\n",
       " [23, 13, 51.0, 1, 21, 0, 23, 15, 1, 1, 0, 5],\n",
       " [8, 19, 49.5, 1, 23, 15, 7, 19, 1, 1, 0, 6],\n",
       " [1, 17, 53.5, 0, 0, 17, 0, 17, 0, 0, 1, 7]]"
      ]
     },
     "execution_count": 28,
     "metadata": {},
     "output_type": "execute_result"
    }
   ],
   "source": [
    "carall"
   ]
  },
  {
   "cell_type": "code",
   "execution_count": 37,
   "id": "91ecf894",
   "metadata": {},
   "outputs": [],
   "source": [
    "a=(2,3)"
   ]
  },
  {
   "cell_type": "code",
   "execution_count": 38,
   "id": "3dfe5a38",
   "metadata": {},
   "outputs": [
    {
     "data": {
      "text/plain": [
       "[2, 3]"
      ]
     },
     "execution_count": 38,
     "metadata": {},
     "output_type": "execute_result"
    }
   ],
   "source": [
    "list(a)"
   ]
  },
  {
   "cell_type": "code",
   "execution_count": null,
   "id": "84effb3d",
   "metadata": {},
   "outputs": [],
   "source": []
  }
 ],
 "metadata": {
  "kernelspec": {
   "display_name": "Python 3",
   "language": "python",
   "name": "python3"
  },
  "language_info": {
   "codemirror_mode": {
    "name": "ipython",
    "version": 3
   },
   "file_extension": ".py",
   "mimetype": "text/x-python",
   "name": "python",
   "nbconvert_exporter": "python",
   "pygments_lexer": "ipython3",
   "version": "3.8.8"
  }
 },
 "nbformat": 4,
 "nbformat_minor": 5
}
